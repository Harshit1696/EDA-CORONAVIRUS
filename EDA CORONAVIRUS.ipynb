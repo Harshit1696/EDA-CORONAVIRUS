{
 "cells": [
  {
   "cell_type": "code",
   "execution_count": 1,
   "metadata": {},
   "outputs": [],
   "source": [
    "import pandas as pd\n",
    "import matplotlib.pyplot as plt\n",
    "import seaborn as sns\n",
    "import numpy as np"
   ]
  },
  {
   "cell_type": "code",
   "execution_count": 11,
   "metadata": {},
   "outputs": [],
   "source": [
    "data=pd.read_csv(\"2019.csv\")"
   ]
  },
  {
   "cell_type": "code",
   "execution_count": 12,
   "metadata": {},
   "outputs": [
    {
     "data": {
      "text/html": [
       "<div>\n",
       "<style scoped>\n",
       "    .dataframe tbody tr th:only-of-type {\n",
       "        vertical-align: middle;\n",
       "    }\n",
       "\n",
       "    .dataframe tbody tr th {\n",
       "        vertical-align: top;\n",
       "    }\n",
       "\n",
       "    .dataframe thead th {\n",
       "        text-align: right;\n",
       "    }\n",
       "</style>\n",
       "<table border=\"1\" class=\"dataframe\">\n",
       "  <thead>\n",
       "    <tr style=\"text-align: right;\">\n",
       "      <th></th>\n",
       "      <th>year</th>\n",
       "      <th>no_atms_on_site</th>\n",
       "      <th>no_atms_off_site</th>\n",
       "      <th>no_pos_on_line</th>\n",
       "      <th>no_pos_off_line</th>\n",
       "      <th>no_credit_cards</th>\n",
       "      <th>no_credit_card_atm_txn</th>\n",
       "      <th>no_credit_card_pos_txn</th>\n",
       "      <th>no_credit_card_atm_txn_value_in_mn</th>\n",
       "      <th>no_credit_card_pos_txn_value_in_mn</th>\n",
       "      <th>no_debit_cards</th>\n",
       "      <th>no_debit_card_atm_txn</th>\n",
       "      <th>no_debit_card_pos_txn</th>\n",
       "      <th>no_debit_card_atm_txn_value_in_mn</th>\n",
       "      <th>no_debit_card_pos_txn_value_in_mn</th>\n",
       "    </tr>\n",
       "  </thead>\n",
       "  <tbody>\n",
       "    <tr>\n",
       "      <th>0</th>\n",
       "      <td>2019</td>\n",
       "      <td>2611</td>\n",
       "      <td>3450</td>\n",
       "      <td>62916</td>\n",
       "      <td>0</td>\n",
       "      <td>185755</td>\n",
       "      <td>20701</td>\n",
       "      <td>332021</td>\n",
       "      <td>118.987091</td>\n",
       "      <td>815.311093</td>\n",
       "      <td>37140386</td>\n",
       "      <td>18795068</td>\n",
       "      <td>10410562</td>\n",
       "      <td>67752.85537</td>\n",
       "      <td>10976.444720</td>\n",
       "    </tr>\n",
       "    <tr>\n",
       "      <th>1</th>\n",
       "      <td>2019</td>\n",
       "      <td>1303</td>\n",
       "      <td>557</td>\n",
       "      <td>2350</td>\n",
       "      <td>0</td>\n",
       "      <td>0</td>\n",
       "      <td>0</td>\n",
       "      <td>0</td>\n",
       "      <td>0.000000</td>\n",
       "      <td>0.000000</td>\n",
       "      <td>5806377</td>\n",
       "      <td>7391749</td>\n",
       "      <td>4953249</td>\n",
       "      <td>27020.84695</td>\n",
       "      <td>5356.402883</td>\n",
       "    </tr>\n",
       "    <tr>\n",
       "      <th>2</th>\n",
       "      <td>2019</td>\n",
       "      <td>4767</td>\n",
       "      <td>4070</td>\n",
       "      <td>22070</td>\n",
       "      <td>0</td>\n",
       "      <td>396756</td>\n",
       "      <td>50235</td>\n",
       "      <td>771984</td>\n",
       "      <td>265.940679</td>\n",
       "      <td>1537.982099</td>\n",
       "      <td>18973081</td>\n",
       "      <td>23158912</td>\n",
       "      <td>12485289</td>\n",
       "      <td>99824.34663</td>\n",
       "      <td>16544.975010</td>\n",
       "    </tr>\n",
       "    <tr>\n",
       "      <th>3</th>\n",
       "      <td>2019</td>\n",
       "      <td>2503</td>\n",
       "      <td>801</td>\n",
       "      <td>3280</td>\n",
       "      <td>0</td>\n",
       "      <td>92050</td>\n",
       "      <td>2118</td>\n",
       "      <td>160049</td>\n",
       "      <td>9.552272</td>\n",
       "      <td>342.739999</td>\n",
       "      <td>21847480</td>\n",
       "      <td>11446742</td>\n",
       "      <td>5945534</td>\n",
       "      <td>46769.56250</td>\n",
       "      <td>7887.057182</td>\n",
       "    </tr>\n",
       "    <tr>\n",
       "      <th>4</th>\n",
       "      <td>2019</td>\n",
       "      <td>2379</td>\n",
       "      <td>611</td>\n",
       "      <td>240202</td>\n",
       "      <td>0</td>\n",
       "      <td>111555</td>\n",
       "      <td>1937</td>\n",
       "      <td>152754</td>\n",
       "      <td>9.405119</td>\n",
       "      <td>358.082953</td>\n",
       "      <td>6853899</td>\n",
       "      <td>6502210</td>\n",
       "      <td>3781898</td>\n",
       "      <td>26381.98828</td>\n",
       "      <td>4705.691976</td>\n",
       "    </tr>\n",
       "  </tbody>\n",
       "</table>\n",
       "</div>"
      ],
      "text/plain": [
       "   year  no_atms_on_site  no_atms_off_site  no_pos_on_line  no_pos_off_line  \\\n",
       "0  2019             2611              3450           62916                0   \n",
       "1  2019             1303               557            2350                0   \n",
       "2  2019             4767              4070           22070                0   \n",
       "3  2019             2503               801            3280                0   \n",
       "4  2019             2379               611          240202                0   \n",
       "\n",
       "   no_credit_cards  no_credit_card_atm_txn  no_credit_card_pos_txn  \\\n",
       "0           185755                   20701                  332021   \n",
       "1                0                       0                       0   \n",
       "2           396756                   50235                  771984   \n",
       "3            92050                    2118                  160049   \n",
       "4           111555                    1937                  152754   \n",
       "\n",
       "   no_credit_card_atm_txn_value_in_mn  no_credit_card_pos_txn_value_in_mn  \\\n",
       "0                          118.987091                          815.311093   \n",
       "1                            0.000000                            0.000000   \n",
       "2                          265.940679                         1537.982099   \n",
       "3                            9.552272                          342.739999   \n",
       "4                            9.405119                          358.082953   \n",
       "\n",
       "   no_debit_cards  no_debit_card_atm_txn  no_debit_card_pos_txn  \\\n",
       "0        37140386               18795068               10410562   \n",
       "1         5806377                7391749                4953249   \n",
       "2        18973081               23158912               12485289   \n",
       "3        21847480               11446742                5945534   \n",
       "4         6853899                6502210                3781898   \n",
       "\n",
       "   no_debit_card_atm_txn_value_in_mn  no_debit_card_pos_txn_value_in_mn  \n",
       "0                        67752.85537                       10976.444720  \n",
       "1                        27020.84695                        5356.402883  \n",
       "2                        99824.34663                       16544.975010  \n",
       "3                        46769.56250                        7887.057182  \n",
       "4                        26381.98828                        4705.691976  "
      ]
     },
     "execution_count": 12,
     "metadata": {},
     "output_type": "execute_result"
    }
   ],
   "source": [
    "data.head()"
   ]
  },
  {
   "cell_type": "code",
   "execution_count": 13,
   "metadata": {},
   "outputs": [],
   "source": [
    "df=pd.read_csv(\"2020.csv\")"
   ]
  },
  {
   "cell_type": "code",
   "execution_count": 14,
   "metadata": {},
   "outputs": [
    {
     "data": {
      "text/html": [
       "<div>\n",
       "<style scoped>\n",
       "    .dataframe tbody tr th:only-of-type {\n",
       "        vertical-align: middle;\n",
       "    }\n",
       "\n",
       "    .dataframe tbody tr th {\n",
       "        vertical-align: top;\n",
       "    }\n",
       "\n",
       "    .dataframe thead th {\n",
       "        text-align: right;\n",
       "    }\n",
       "</style>\n",
       "<table border=\"1\" class=\"dataframe\">\n",
       "  <thead>\n",
       "    <tr style=\"text-align: right;\">\n",
       "      <th></th>\n",
       "      <th>year</th>\n",
       "      <th>no_atms_on_site</th>\n",
       "      <th>no_atms_off_site</th>\n",
       "      <th>no_pos_on_line</th>\n",
       "      <th>no_pos_off_line</th>\n",
       "      <th>no_credit_cards</th>\n",
       "      <th>no_credit_card_atm_txn</th>\n",
       "      <th>no_credit_card_pos_txn</th>\n",
       "      <th>no_credit_card_atm_txn_value_in_mn</th>\n",
       "      <th>no_credit_card_pos_txn_value_in_mn</th>\n",
       "      <th>no_debit_cards</th>\n",
       "      <th>no_debit_card_atm_txn</th>\n",
       "      <th>no_debit_card_pos_txn</th>\n",
       "      <th>no_debit_card_atm_txn_value_in_mn</th>\n",
       "      <th>no_debit_card_pos_txn_value_in_mn</th>\n",
       "    </tr>\n",
       "  </thead>\n",
       "  <tbody>\n",
       "    <tr>\n",
       "      <th>0</th>\n",
       "      <td>2020</td>\n",
       "      <td>771</td>\n",
       "      <td>95</td>\n",
       "      <td>3280</td>\n",
       "      <td>0</td>\n",
       "      <td>0</td>\n",
       "      <td>0</td>\n",
       "      <td>0</td>\n",
       "      <td>0.0</td>\n",
       "      <td>0</td>\n",
       "      <td>6720335</td>\n",
       "      <td>5907695</td>\n",
       "      <td>4635265</td>\n",
       "      <td>237009.0</td>\n",
       "      <td>39552.0</td>\n",
       "    </tr>\n",
       "    <tr>\n",
       "      <th>1</th>\n",
       "      <td>2020</td>\n",
       "      <td>3024</td>\n",
       "      <td>773</td>\n",
       "      <td>13589</td>\n",
       "      <td>0</td>\n",
       "      <td>304670</td>\n",
       "      <td>9313</td>\n",
       "      <td>607168</td>\n",
       "      <td>437.0</td>\n",
       "      <td>14659</td>\n",
       "      <td>12947608</td>\n",
       "      <td>13713219</td>\n",
       "      <td>7848257</td>\n",
       "      <td>580101.0</td>\n",
       "      <td>105131.0</td>\n",
       "    </tr>\n",
       "    <tr>\n",
       "      <th>2</th>\n",
       "      <td>2020</td>\n",
       "      <td>9320</td>\n",
       "      <td>3847</td>\n",
       "      <td>58927</td>\n",
       "      <td>0</td>\n",
       "      <td>441917</td>\n",
       "      <td>15409</td>\n",
       "      <td>1126096</td>\n",
       "      <td>638.0</td>\n",
       "      <td>23885</td>\n",
       "      <td>54029306</td>\n",
       "      <td>34837056</td>\n",
       "      <td>21871835</td>\n",
       "      <td>1563091.0</td>\n",
       "      <td>270151.0</td>\n",
       "    </tr>\n",
       "    <tr>\n",
       "      <th>3</th>\n",
       "      <td>2020</td>\n",
       "      <td>2407</td>\n",
       "      <td>3343</td>\n",
       "      <td>48533</td>\n",
       "      <td>0</td>\n",
       "      <td>165660</td>\n",
       "      <td>15550</td>\n",
       "      <td>440276</td>\n",
       "      <td>866.0</td>\n",
       "      <td>9929</td>\n",
       "      <td>39986161</td>\n",
       "      <td>21284478</td>\n",
       "      <td>11814821</td>\n",
       "      <td>752835.0</td>\n",
       "      <td>124344.0</td>\n",
       "    </tr>\n",
       "    <tr>\n",
       "      <th>4</th>\n",
       "      <td>2020</td>\n",
       "      <td>1389</td>\n",
       "      <td>545</td>\n",
       "      <td>2474</td>\n",
       "      <td>0</td>\n",
       "      <td>0</td>\n",
       "      <td>0</td>\n",
       "      <td>0</td>\n",
       "      <td>0.0</td>\n",
       "      <td>0</td>\n",
       "      <td>7386860</td>\n",
       "      <td>8597032</td>\n",
       "      <td>5693552</td>\n",
       "      <td>311023.0</td>\n",
       "      <td>58430.0</td>\n",
       "    </tr>\n",
       "  </tbody>\n",
       "</table>\n",
       "</div>"
      ],
      "text/plain": [
       "   year  no_atms_on_site  no_atms_off_site  no_pos_on_line  no_pos_off_line  \\\n",
       "0  2020              771                95            3280                0   \n",
       "1  2020             3024               773           13589                0   \n",
       "2  2020             9320              3847           58927                0   \n",
       "3  2020             2407              3343           48533                0   \n",
       "4  2020             1389               545            2474                0   \n",
       "\n",
       "   no_credit_cards  no_credit_card_atm_txn  no_credit_card_pos_txn  \\\n",
       "0                0                       0                       0   \n",
       "1           304670                    9313                  607168   \n",
       "2           441917                   15409                 1126096   \n",
       "3           165660                   15550                  440276   \n",
       "4                0                       0                       0   \n",
       "\n",
       "   no_credit_card_atm_txn_value_in_mn  no_credit_card_pos_txn_value_in_mn  \\\n",
       "0                                 0.0                                   0   \n",
       "1                               437.0                               14659   \n",
       "2                               638.0                               23885   \n",
       "3                               866.0                                9929   \n",
       "4                                 0.0                                   0   \n",
       "\n",
       "   no_debit_cards  no_debit_card_atm_txn  no_debit_card_pos_txn  \\\n",
       "0         6720335                5907695                4635265   \n",
       "1        12947608               13713219                7848257   \n",
       "2        54029306               34837056               21871835   \n",
       "3        39986161               21284478               11814821   \n",
       "4         7386860                8597032                5693552   \n",
       "\n",
       "   no_debit_card_atm_txn_value_in_mn  no_debit_card_pos_txn_value_in_mn  \n",
       "0                           237009.0                            39552.0  \n",
       "1                           580101.0                           105131.0  \n",
       "2                          1563091.0                           270151.0  \n",
       "3                           752835.0                           124344.0  \n",
       "4                           311023.0                            58430.0  "
      ]
     },
     "execution_count": 14,
     "metadata": {},
     "output_type": "execute_result"
    }
   ],
   "source": [
    "df.head()"
   ]
  },
  {
   "cell_type": "code",
   "execution_count": 15,
   "metadata": {},
   "outputs": [
    {
     "data": {
      "text/plain": [
       "361956.40959460224"
      ]
     },
     "execution_count": 15,
     "metadata": {},
     "output_type": "execute_result"
    }
   ],
   "source": [
    "data['no_debit_card_atm_txn_value_in_mn'].mean()"
   ]
  },
  {
   "cell_type": "code",
   "execution_count": 45,
   "metadata": {},
   "outputs": [
    {
     "data": {
      "text/plain": [
       "499531.236328125"
      ]
     },
     "execution_count": 45,
     "metadata": {},
     "output_type": "execute_result"
    }
   ],
   "source": [
    "df['no_debit_card_atm_txn_value_in_mn'].mean()"
   ]
  },
  {
   "cell_type": "code",
   "execution_count": 16,
   "metadata": {},
   "outputs": [
    {
     "data": {
      "text/plain": [
       "Text(0.5, 1.0, 'Value of debit transactions at atm in Million Rs')"
      ]
     },
     "execution_count": 16,
     "metadata": {},
     "output_type": "execute_result"
    },
    {
     "data": {
      "image/png": "[encoded data removed]",
      "text/plain": [
       "<Figure size 432x288 with 1 Axes>"
      ]
     },
     "metadata": {
      "needs_background": "light"
     },
     "output_type": "display_data"
    }
   ],
   "source": [
    "y1 = 'PRE-CORONA(2016-2019)', 'POST CORONA(2020)'\n",
    "value = data['no_debit_card_atm_txn_value_in_mn'].mean(),df['no_debit_card_atm_txn_value_in_mn'].mean()\n",
    "plt.bar(y1, value, color=['green', 'blue'],width=0.5)\n",
    "plt.title('Value of debit transactions at atm in Million Rs')"
   ]
  },
  {
   "cell_type": "code",
   "execution_count": 76,
   "metadata": {},
   "outputs": [
    {
     "data": {
      "text/plain": [
       "Text(0.5, 1.0, 'Value of credit transactions at atm in Million Rs')"
      ]
     },
     "execution_count": 76,
     "metadata": {},
     "output_type": "execute_result"
    },
    {
     "data": {
      "image/png": "[encoded data removed]",
      "text/plain": [
       "<Figure size 432x288 with 1 Axes>"
      ]
     },
     "metadata": {
      "needs_background": "light"
     },
     "output_type": "display_data"
    }
   ],
   "source": [
    "y1 = 'PRE-CORONA(2016-2019)', 'POST CORONA(2020)'\n",
    "value = data['no_credit_card_pos_txn_value_in_mn'].mean(),df['no_credit_card_pos_txn_value_in_mn'].mean()\n",
    "plt.bar(y1, value, color=['red', 'orange'])\n",
    "plt.title('Value of credit transactions at atm in Million Rs')"
   ]
  },
  {
   "cell_type": "code",
   "execution_count": 6,
   "metadata": {},
   "outputs": [],
   "source": [
    "df1=pd.read_csv(\"ecs.csv\")"
   ]
  },
  {
   "cell_type": "code",
   "execution_count": 7,
   "metadata": {},
   "outputs": [
    {
     "data": {
      "text/html": [
       "<div>\n",
       "<style scoped>\n",
       "    .dataframe tbody tr th:only-of-type {\n",
       "        vertical-align: middle;\n",
       "    }\n",
       "\n",
       "    .dataframe tbody tr th {\n",
       "        vertical-align: top;\n",
       "    }\n",
       "\n",
       "    .dataframe thead th {\n",
       "        text-align: right;\n",
       "    }\n",
       "</style>\n",
       "<table border=\"1\" class=\"dataframe\">\n",
       "  <thead>\n",
       "    <tr style=\"text-align: right;\">\n",
       "      <th></th>\n",
       "      <th>year</th>\n",
       "      <th>AMOUNT  (Rs. Lakh)</th>\n",
       "    </tr>\n",
       "  </thead>\n",
       "  <tbody>\n",
       "    <tr>\n",
       "      <th>0</th>\n",
       "      <td>2019</td>\n",
       "      <td>9387335827</td>\n",
       "    </tr>\n",
       "    <tr>\n",
       "      <th>1</th>\n",
       "      <td>2020</td>\n",
       "      <td>8772646755</td>\n",
       "    </tr>\n",
       "  </tbody>\n",
       "</table>\n",
       "</div>"
      ],
      "text/plain": [
       "   year  AMOUNT  (Rs. Lakh)\n",
       "0  2019          9387335827\n",
       "1  2020          8772646755"
      ]
     },
     "execution_count": 7,
     "metadata": {},
     "output_type": "execute_result"
    }
   ],
   "source": [
    "df1.head()"
   ]
  },
  {
   "cell_type": "code",
   "execution_count": 8,
   "metadata": {},
   "outputs": [
    {
     "data": {
      "image/png": "[encoded data removed]",
      "text/plain": [
       "<Figure size 360x360 with 1 Axes>"
      ]
     },
     "metadata": {},
     "output_type": "display_data"
    }
   ],
   "source": [
    "labels = 'pre-corona', 'post-corona'\n",
    "sizes = [9387335827, 8772646755]\n",
    "colors = ['yellowgreen', 'lightcoral']\n",
    "explode = (0, 0.1)\n",
    "plt.figure(figsize=(5,5))\n",
    "plt.pie(sizes, explode=explode, labels=labels, colors=colors,\n",
    "autopct='%1.1f%%', shadow=True)\n",
    "plt.title('Ecs transactions in India')\n",
    "plt.show()"
   ]
  },
  {
   "cell_type": "code",
   "execution_count": 107,
   "metadata": {},
   "outputs": [],
   "source": [
    "df2=pd.read_csv(\"Wholesale customers data.csv\")"
   ]
  },
  {
   "cell_type": "code",
   "execution_count": 113,
   "metadata": {},
   "outputs": [
    {
     "data": {
      "text/html": [
       "<div>\n",
       "<style scoped>\n",
       "    .dataframe tbody tr th:only-of-type {\n",
       "        vertical-align: middle;\n",
       "    }\n",
       "\n",
       "    .dataframe tbody tr th {\n",
       "        vertical-align: top;\n",
       "    }\n",
       "\n",
       "    .dataframe thead th {\n",
       "        text-align: right;\n",
       "    }\n",
       "</style>\n",
       "<table border=\"1\" class=\"dataframe\">\n",
       "  <thead>\n",
       "    <tr style=\"text-align: right;\">\n",
       "      <th></th>\n",
       "      <th>year</th>\n",
       "      <th>Fresh</th>\n",
       "      <th>Milk</th>\n",
       "      <th>Grocery</th>\n",
       "      <th>Frozen</th>\n",
       "      <th>Detergents_Paper</th>\n",
       "      <th>Delicassen</th>\n",
       "    </tr>\n",
       "  </thead>\n",
       "  <tbody>\n",
       "    <tr>\n",
       "      <th>0</th>\n",
       "      <td>2019</td>\n",
       "      <td>12669</td>\n",
       "      <td>9656</td>\n",
       "      <td>7561</td>\n",
       "      <td>214</td>\n",
       "      <td>2674</td>\n",
       "      <td>1338</td>\n",
       "    </tr>\n",
       "    <tr>\n",
       "      <th>1</th>\n",
       "      <td>2019</td>\n",
       "      <td>7057</td>\n",
       "      <td>9810</td>\n",
       "      <td>9568</td>\n",
       "      <td>1762</td>\n",
       "      <td>3293</td>\n",
       "      <td>1776</td>\n",
       "    </tr>\n",
       "    <tr>\n",
       "      <th>2</th>\n",
       "      <td>2019</td>\n",
       "      <td>6353</td>\n",
       "      <td>8808</td>\n",
       "      <td>7684</td>\n",
       "      <td>2405</td>\n",
       "      <td>3516</td>\n",
       "      <td>7844</td>\n",
       "    </tr>\n",
       "    <tr>\n",
       "      <th>3</th>\n",
       "      <td>2019</td>\n",
       "      <td>13265</td>\n",
       "      <td>1196</td>\n",
       "      <td>4221</td>\n",
       "      <td>6404</td>\n",
       "      <td>507</td>\n",
       "      <td>1788</td>\n",
       "    </tr>\n",
       "    <tr>\n",
       "      <th>4</th>\n",
       "      <td>2019</td>\n",
       "      <td>22615</td>\n",
       "      <td>5410</td>\n",
       "      <td>7198</td>\n",
       "      <td>3915</td>\n",
       "      <td>1777</td>\n",
       "      <td>5185</td>\n",
       "    </tr>\n",
       "  </tbody>\n",
       "</table>\n",
       "</div>"
      ],
      "text/plain": [
       "   year  Fresh  Milk  Grocery  Frozen  Detergents_Paper  Delicassen\n",
       "0  2019  12669  9656     7561     214              2674        1338\n",
       "1  2019   7057  9810     9568    1762              3293        1776\n",
       "2  2019   6353  8808     7684    2405              3516        7844\n",
       "3  2019  13265  1196     4221    6404               507        1788\n",
       "4  2019  22615  5410     7198    3915              1777        5185"
      ]
     },
     "execution_count": 113,
     "metadata": {},
     "output_type": "execute_result"
    }
   ],
   "source": [
    "df2.head()"
   ]
  },
  {
   "cell_type": "code",
   "execution_count": 109,
   "metadata": {},
   "outputs": [],
   "source": [
    "df3=pd.read_csv('2020 wholesale.csv')"
   ]
  },
  {
   "cell_type": "code",
   "execution_count": 110,
   "metadata": {},
   "outputs": [
    {
     "data": {
      "text/html": [
       "<div>\n",
       "<style scoped>\n",
       "    .dataframe tbody tr th:only-of-type {\n",
       "        vertical-align: middle;\n",
       "    }\n",
       "\n",
       "    .dataframe tbody tr th {\n",
       "        vertical-align: top;\n",
       "    }\n",
       "\n",
       "    .dataframe thead th {\n",
       "        text-align: right;\n",
       "    }\n",
       "</style>\n",
       "<table border=\"1\" class=\"dataframe\">\n",
       "  <thead>\n",
       "    <tr style=\"text-align: right;\">\n",
       "      <th></th>\n",
       "      <th>year</th>\n",
       "      <th>Fresh</th>\n",
       "      <th>Milk</th>\n",
       "      <th>Grocery</th>\n",
       "      <th>Frozen</th>\n",
       "      <th>Detergents_Paper</th>\n",
       "      <th>Delicassen</th>\n",
       "    </tr>\n",
       "  </thead>\n",
       "  <tbody>\n",
       "    <tr>\n",
       "      <th>0</th>\n",
       "      <td>2020</td>\n",
       "      <td>4155</td>\n",
       "      <td>367</td>\n",
       "      <td>1390</td>\n",
       "      <td>2306</td>\n",
       "      <td>86</td>\n",
       "      <td>130</td>\n",
       "    </tr>\n",
       "    <tr>\n",
       "      <th>1</th>\n",
       "      <td>2020</td>\n",
       "      <td>14755</td>\n",
       "      <td>899</td>\n",
       "      <td>1382</td>\n",
       "      <td>1765</td>\n",
       "      <td>56</td>\n",
       "      <td>749</td>\n",
       "    </tr>\n",
       "    <tr>\n",
       "      <th>2</th>\n",
       "      <td>2020</td>\n",
       "      <td>5396</td>\n",
       "      <td>7503</td>\n",
       "      <td>10646</td>\n",
       "      <td>91</td>\n",
       "      <td>4167</td>\n",
       "      <td>239</td>\n",
       "    </tr>\n",
       "    <tr>\n",
       "      <th>3</th>\n",
       "      <td>2020</td>\n",
       "      <td>5041</td>\n",
       "      <td>1115</td>\n",
       "      <td>2856</td>\n",
       "      <td>7496</td>\n",
       "      <td>256</td>\n",
       "      <td>375</td>\n",
       "    </tr>\n",
       "    <tr>\n",
       "      <th>4</th>\n",
       "      <td>2020</td>\n",
       "      <td>2790</td>\n",
       "      <td>2527</td>\n",
       "      <td>5265</td>\n",
       "      <td>5612</td>\n",
       "      <td>788</td>\n",
       "      <td>1360</td>\n",
       "    </tr>\n",
       "  </tbody>\n",
       "</table>\n",
       "</div>"
      ],
      "text/plain": [
       "   year  Fresh  Milk  Grocery  Frozen  Detergents_Paper  Delicassen\n",
       "0  2020   4155   367     1390    2306                86         130\n",
       "1  2020  14755   899     1382    1765                56         749\n",
       "2  2020   5396  7503    10646      91              4167         239\n",
       "3  2020   5041  1115     2856    7496               256         375\n",
       "4  2020   2790  2527     5265    5612               788        1360"
      ]
     },
     "execution_count": 110,
     "metadata": {},
     "output_type": "execute_result"
    }
   ],
   "source": [
    "df3.head()"
   ]
  },
  {
   "cell_type": "code",
   "execution_count": 137,
   "metadata": {},
   "outputs": [
    {
     "data": {
      "text/plain": [
       "Text(0.5, 1.0, 'essential good supplies(frozen)')"
      ]
     },
     "execution_count": 137,
     "metadata": {},
     "output_type": "execute_result"
    },
    {
     "data": {
      "image/png": "[encoded data removed]",
      "text/plain": [
       "<Figure size 432x288 with 1 Axes>"
      ]
     },
     "metadata": {
      "needs_background": "light"
     },
     "output_type": "display_data"
    }
   ],
   "source": [
    "y1 = 'PRE-CORONA(2016-2019)', 'POST CORONA(2020)'\n",
    "value = df2['Frozen'].mean(),df3['Frozen'].mean()\n",
    "plt.bar(y1, value, color=['purple', 'orange'])\n",
    "plt.title('essential good supplies(frozen)')"
   ]
  },
  {
   "cell_type": "code",
   "execution_count": 120,
   "metadata": {},
   "outputs": [
    {
     "data": {
      "text/plain": [
       "Text(0.5, 1.0, 'essential good supplies(cooked meat shops)')"
      ]
     },
     "execution_count": 120,
     "metadata": {},
     "output_type": "execute_result"
    },
    {
     "data": {
      "image/png": "[encoded data removed]",
      "text/plain": [
       "<Figure size 432x288 with 1 Axes>"
      ]
     },
     "metadata": {
      "needs_background": "light"
     },
     "output_type": "display_data"
    }
   ],
   "source": [
    "y1 = 'PRE-CORONA(2016-2019)', 'POST CORONA(2020)'\n",
    "value = df2['Delicassen'].mean(),df3['Delicassen'].mean()\n",
    "plt.bar(y1, value, color=['red', 'pink'])\n",
    "plt.title('essential good supplies(cooked meat shops)')"
   ]
  },
  {
   "cell_type": "code",
   "execution_count": 139,
   "metadata": {},
   "outputs": [],
   "source": [
    "data1=pd.read_csv(\"wholesale boxplot.csv\")"
   ]
  },
  {
   "cell_type": "code",
   "execution_count": 140,
   "metadata": {},
   "outputs": [
    {
     "data": {
      "text/html": [
       "<div>\n",
       "<style scoped>\n",
       "    .dataframe tbody tr th:only-of-type {\n",
       "        vertical-align: middle;\n",
       "    }\n",
       "\n",
       "    .dataframe tbody tr th {\n",
       "        vertical-align: top;\n",
       "    }\n",
       "\n",
       "    .dataframe thead th {\n",
       "        text-align: right;\n",
       "    }\n",
       "</style>\n",
       "<table border=\"1\" class=\"dataframe\">\n",
       "  <thead>\n",
       "    <tr style=\"text-align: right;\">\n",
       "      <th></th>\n",
       "      <th>year</th>\n",
       "      <th>Fresh</th>\n",
       "      <th>Milk</th>\n",
       "      <th>Grocery</th>\n",
       "      <th>Frozen</th>\n",
       "      <th>Detergents_Paper</th>\n",
       "      <th>Delicassen</th>\n",
       "    </tr>\n",
       "  </thead>\n",
       "  <tbody>\n",
       "    <tr>\n",
       "      <th>0</th>\n",
       "      <td>2019</td>\n",
       "      <td>12669</td>\n",
       "      <td>9656</td>\n",
       "      <td>7561</td>\n",
       "      <td>214</td>\n",
       "      <td>2674</td>\n",
       "      <td>1338</td>\n",
       "    </tr>\n",
       "    <tr>\n",
       "      <th>1</th>\n",
       "      <td>2019</td>\n",
       "      <td>7057</td>\n",
       "      <td>9810</td>\n",
       "      <td>9568</td>\n",
       "      <td>1762</td>\n",
       "      <td>3293</td>\n",
       "      <td>1776</td>\n",
       "    </tr>\n",
       "    <tr>\n",
       "      <th>2</th>\n",
       "      <td>2019</td>\n",
       "      <td>6353</td>\n",
       "      <td>8808</td>\n",
       "      <td>7684</td>\n",
       "      <td>2405</td>\n",
       "      <td>3516</td>\n",
       "      <td>7844</td>\n",
       "    </tr>\n",
       "    <tr>\n",
       "      <th>3</th>\n",
       "      <td>2019</td>\n",
       "      <td>13265</td>\n",
       "      <td>1196</td>\n",
       "      <td>4221</td>\n",
       "      <td>6404</td>\n",
       "      <td>507</td>\n",
       "      <td>1788</td>\n",
       "    </tr>\n",
       "    <tr>\n",
       "      <th>4</th>\n",
       "      <td>2019</td>\n",
       "      <td>22615</td>\n",
       "      <td>5410</td>\n",
       "      <td>7198</td>\n",
       "      <td>3915</td>\n",
       "      <td>1777</td>\n",
       "      <td>5185</td>\n",
       "    </tr>\n",
       "    <tr>\n",
       "      <th>...</th>\n",
       "      <td>...</td>\n",
       "      <td>...</td>\n",
       "      <td>...</td>\n",
       "      <td>...</td>\n",
       "      <td>...</td>\n",
       "      <td>...</td>\n",
       "      <td>...</td>\n",
       "    </tr>\n",
       "    <tr>\n",
       "      <th>435</th>\n",
       "      <td>2020</td>\n",
       "      <td>29703</td>\n",
       "      <td>12051</td>\n",
       "      <td>16027</td>\n",
       "      <td>13135</td>\n",
       "      <td>182</td>\n",
       "      <td>2204</td>\n",
       "    </tr>\n",
       "    <tr>\n",
       "      <th>436</th>\n",
       "      <td>2020</td>\n",
       "      <td>39228</td>\n",
       "      <td>1431</td>\n",
       "      <td>764</td>\n",
       "      <td>4510</td>\n",
       "      <td>93</td>\n",
       "      <td>2346</td>\n",
       "    </tr>\n",
       "    <tr>\n",
       "      <th>437</th>\n",
       "      <td>2020</td>\n",
       "      <td>14531</td>\n",
       "      <td>15488</td>\n",
       "      <td>30243</td>\n",
       "      <td>437</td>\n",
       "      <td>14841</td>\n",
       "      <td>1867</td>\n",
       "    </tr>\n",
       "    <tr>\n",
       "      <th>438</th>\n",
       "      <td>2020</td>\n",
       "      <td>10290</td>\n",
       "      <td>1981</td>\n",
       "      <td>2232</td>\n",
       "      <td>1038</td>\n",
       "      <td>168</td>\n",
       "      <td>2125</td>\n",
       "    </tr>\n",
       "    <tr>\n",
       "      <th>439</th>\n",
       "      <td>2020</td>\n",
       "      <td>2787</td>\n",
       "      <td>1698</td>\n",
       "      <td>2510</td>\n",
       "      <td>65</td>\n",
       "      <td>477</td>\n",
       "      <td>52</td>\n",
       "    </tr>\n",
       "  </tbody>\n",
       "</table>\n",
       "<p>440 rows × 7 columns</p>\n",
       "</div>"
      ],
      "text/plain": [
       "     year  Fresh   Milk  Grocery  Frozen  Detergents_Paper  Delicassen\n",
       "0    2019  12669   9656     7561     214              2674        1338\n",
       "1    2019   7057   9810     9568    1762              3293        1776\n",
       "2    2019   6353   8808     7684    2405              3516        7844\n",
       "3    2019  13265   1196     4221    6404               507        1788\n",
       "4    2019  22615   5410     7198    3915              1777        5185\n",
       "..    ...    ...    ...      ...     ...               ...         ...\n",
       "435  2020  29703  12051    16027   13135               182        2204\n",
       "436  2020  39228   1431      764    4510                93        2346\n",
       "437  2020  14531  15488    30243     437             14841        1867\n",
       "438  2020  10290   1981     2232    1038               168        2125\n",
       "439  2020   2787   1698     2510      65               477          52\n",
       "\n",
       "[440 rows x 7 columns]"
      ]
     },
     "execution_count": 140,
     "metadata": {},
     "output_type": "execute_result"
    }
   ],
   "source": [
    "data1"
   ]
  },
  {
   "cell_type": "code",
   "execution_count": 1,
   "metadata": {},
   "outputs": [],
   "source": [
    "import pandas as pd\n",
    "data10=pd.read_csv(\"WHOLE.csv\")"
   ]
  },
  {
   "cell_type": "code",
   "execution_count": 9,
   "metadata": {},
   "outputs": [
    {
     "data": {
      "text/html": [
       "<div>\n",
       "<style scoped>\n",
       "    .dataframe tbody tr th:only-of-type {\n",
       "        vertical-align: middle;\n",
       "    }\n",
       "\n",
       "    .dataframe tbody tr th {\n",
       "        vertical-align: top;\n",
       "    }\n",
       "\n",
       "    .dataframe thead th {\n",
       "        text-align: right;\n",
       "    }\n",
       "</style>\n",
       "<table border=\"1\" class=\"dataframe\">\n",
       "  <thead>\n",
       "    <tr style=\"text-align: right;\">\n",
       "      <th></th>\n",
       "      <th>YEAR</th>\n",
       "      <th>GROCERY</th>\n",
       "    </tr>\n",
       "  </thead>\n",
       "  <tbody>\n",
       "    <tr>\n",
       "      <th>0</th>\n",
       "      <td>2016</td>\n",
       "      <td>2058154</td>\n",
       "    </tr>\n",
       "    <tr>\n",
       "      <th>1</th>\n",
       "      <td>2017</td>\n",
       "      <td>2099934</td>\n",
       "    </tr>\n",
       "    <tr>\n",
       "      <th>2</th>\n",
       "      <td>2018</td>\n",
       "      <td>2100001</td>\n",
       "    </tr>\n",
       "    <tr>\n",
       "      <th>3</th>\n",
       "      <td>2019</td>\n",
       "      <td>2069171</td>\n",
       "    </tr>\n",
       "    <tr>\n",
       "      <th>4</th>\n",
       "      <td>2020</td>\n",
       "      <td>1429391</td>\n",
       "    </tr>\n",
       "  </tbody>\n",
       "</table>\n",
       "</div>"
      ],
      "text/plain": [
       "   YEAR  GROCERY\n",
       "0  2016  2058154\n",
       "1  2017  2099934\n",
       "2  2018  2100001\n",
       "3  2019  2069171\n",
       "4  2020  1429391"
      ]
     },
     "execution_count": 9,
     "metadata": {},
     "output_type": "execute_result"
    }
   ],
   "source": [
    "data10"
   ]
  },
  {
   "cell_type": "code",
   "execution_count": 5,
   "metadata": {},
   "outputs": [
    {
     "data": {
      "image/png": "[encoded data removed]",
      "text/plain": [
       "<Figure size 360x360 with 1 Axes>"
      ]
     },
     "metadata": {},
     "output_type": "display_data"
    }
   ],
   "source": [
    "labels = data10['YEAR']\n",
    "sizes = data10['GROCERY']\n",
    "colors = ['red', 'orange','lightblue','yellowgreen','green']\n",
    "plt.figure(figsize=(5,5))\n",
    "plt.pie(sizes,  labels=labels, explode=(0,0,0,0,0.1),colors=colors,\n",
    "autopct='%1.1f%%', shadow=True)\n",
    "plt.title('Average Grocery shopping from retail shops')\n",
    "plt.show()"
   ]
  },
  {
   "cell_type": "code",
   "execution_count": 155,
   "metadata": {},
   "outputs": [
    {
     "data": {
      "text/plain": [
       "Text(0.5, 1.0, 'Grocery shopping from retail shops')"
      ]
     },
     "execution_count": 155,
     "metadata": {},
     "output_type": "execute_result"
    },
    {
     "data": {
      "image/png": "[encoded data removed]",
      "text/plain": [
       "<Figure size 504x936 with 1 Axes>"
      ]
     },
     "metadata": {
      "needs_background": "light"
     },
     "output_type": "display_data"
    }
   ],
   "source": [
    "fig = plt.subplots(figsize=(7,13))\n",
    "sns.set_palette(\"Set1\")\n",
    "sns.boxplot(x=\"year\", y=\"Grocery\", data=data1)\n",
    "plt.title(\"Grocery shopping from retail shops\")"
   ]
  },
  {
   "cell_type": "code",
   "execution_count": 158,
   "metadata": {},
   "outputs": [
    {
     "data": {
      "image/png": "[encoded data removed]",
      "text/plain": [
       "<Figure size 576x576 with 2 Axes>"
      ]
     },
     "metadata": {
      "needs_background": "light"
     },
     "output_type": "display_data"
    }
   ],
   "source": [
    "corr = data1.corr()\n",
    "fig, ax = plt.subplots(figsize=(8, 8))\n",
    "colormap = sns.diverging_palette(220, 10, as_cmap=True)\n",
    "dropSelf = np.zeros_like(corr)\n",
    "dropSelf[np.triu_indices_from(dropSelf)] = True\n",
    "colormap = sns.diverging_palette(220, 10, as_cmap=True)\n",
    "sns.heatmap(corr, cmap=colormap, linewidths=.5, annot=True, fmt=\".2f\", mask=dropSelf)\n",
    "plt.show()"
   ]
  },
  {
   "cell_type": "markdown",
   "metadata": {},
   "source": [
    "A correlation between variables indicates that as one variable changes in value, the other variable tends to change in a specific direction.  Understanding that relationship is useful because we can use the value of one variable to predict the value of the other variable. The term \"correlation\" refers to a mutual relationship or association between quantities. A correlation exists between the parameters if the correlation coefficient value is near 1 and does not exist if the value is around 0. It’s positive in case of values near +1 ad negative for those near -1."
   ]
  },
  {
   "cell_type": "code",
   "execution_count": 166,
   "metadata": {},
   "outputs": [],
   "source": [
    "data3=pd.read_csv(\"distplot data.csv\")"
   ]
  },
  {
   "cell_type": "code",
   "execution_count": 169,
   "metadata": {},
   "outputs": [
    {
     "data": {
      "text/html": [
       "<div>\n",
       "<style scoped>\n",
       "    .dataframe tbody tr th:only-of-type {\n",
       "        vertical-align: middle;\n",
       "    }\n",
       "\n",
       "    .dataframe tbody tr th {\n",
       "        vertical-align: top;\n",
       "    }\n",
       "\n",
       "    .dataframe thead th {\n",
       "        text-align: right;\n",
       "    }\n",
       "</style>\n",
       "<table border=\"1\" class=\"dataframe\">\n",
       "  <thead>\n",
       "    <tr style=\"text-align: right;\">\n",
       "      <th></th>\n",
       "      <th>year</th>\n",
       "      <th>no_atms_on_site</th>\n",
       "      <th>no_atms_off_site</th>\n",
       "      <th>no_pos_on_line</th>\n",
       "      <th>no_pos_off_line</th>\n",
       "      <th>no_credit_cards</th>\n",
       "      <th>no_credit_card_atm_txn</th>\n",
       "      <th>no_credit_card_pos_txn</th>\n",
       "      <th>no_credit_card_atm_txn_value_in_mn</th>\n",
       "      <th>no_credit_card_pos_txn_value_in_mn</th>\n",
       "      <th>no_debit_cards</th>\n",
       "      <th>no_debit_card_atm_txn</th>\n",
       "      <th>no_debit_card_pos_txn</th>\n",
       "      <th>no_debit_card_atm_txn_value_in_mn</th>\n",
       "      <th>no_debit_card_pos_txn_value_in_mn</th>\n",
       "    </tr>\n",
       "  </thead>\n",
       "  <tbody>\n",
       "    <tr>\n",
       "      <th>0</th>\n",
       "      <td>2019</td>\n",
       "      <td>2056</td>\n",
       "      <td>309</td>\n",
       "      <td>4633</td>\n",
       "      <td>0</td>\n",
       "      <td>0</td>\n",
       "      <td>0</td>\n",
       "      <td>0</td>\n",
       "      <td>0.000000</td>\n",
       "      <td>0.000000e+00</td>\n",
       "      <td>7349417</td>\n",
       "      <td>6241323</td>\n",
       "      <td>3570769</td>\n",
       "      <td>2.373801e+05</td>\n",
       "      <td>4.444839e+04</td>\n",
       "    </tr>\n",
       "    <tr>\n",
       "      <th>1</th>\n",
       "      <td>2019</td>\n",
       "      <td>3926</td>\n",
       "      <td>2691</td>\n",
       "      <td>53866</td>\n",
       "      <td>0</td>\n",
       "      <td>47661</td>\n",
       "      <td>3950</td>\n",
       "      <td>232667</td>\n",
       "      <td>199.793351</td>\n",
       "      <td>5.655823e+03</td>\n",
       "      <td>17793021</td>\n",
       "      <td>28293284</td>\n",
       "      <td>9210319</td>\n",
       "      <td>8.288817e+05</td>\n",
       "      <td>1.051119e+05</td>\n",
       "    </tr>\n",
       "    <tr>\n",
       "      <th>2</th>\n",
       "      <td>2019</td>\n",
       "      <td>1003</td>\n",
       "      <td>1014</td>\n",
       "      <td>5998</td>\n",
       "      <td>0</td>\n",
       "      <td>7618</td>\n",
       "      <td>178</td>\n",
       "      <td>8680</td>\n",
       "      <td>8.136000</td>\n",
       "      <td>1.834508e+02</td>\n",
       "      <td>8582681</td>\n",
       "      <td>7946142</td>\n",
       "      <td>2434658</td>\n",
       "      <td>2.765543e+05</td>\n",
       "      <td>3.194723e+04</td>\n",
       "    </tr>\n",
       "    <tr>\n",
       "      <th>3</th>\n",
       "      <td>2019</td>\n",
       "      <td>2206</td>\n",
       "      <td>1493</td>\n",
       "      <td>34863</td>\n",
       "      <td>0</td>\n",
       "      <td>33751</td>\n",
       "      <td>976</td>\n",
       "      <td>144533</td>\n",
       "      <td>54.082814</td>\n",
       "      <td>3.434566e+03</td>\n",
       "      <td>12300353</td>\n",
       "      <td>9449057</td>\n",
       "      <td>6359887</td>\n",
       "      <td>4.049940e+05</td>\n",
       "      <td>8.502809e+04</td>\n",
       "    </tr>\n",
       "    <tr>\n",
       "      <th>4</th>\n",
       "      <td>2019</td>\n",
       "      <td>25793</td>\n",
       "      <td>32841</td>\n",
       "      <td>608542</td>\n",
       "      <td>0</td>\n",
       "      <td>9096320</td>\n",
       "      <td>139672</td>\n",
       "      <td>30868693</td>\n",
       "      <td>5391.585120</td>\n",
       "      <td>1.120285e+06</td>\n",
       "      <td>297610598</td>\n",
       "      <td>379148480</td>\n",
       "      <td>120758113</td>\n",
       "      <td>1.077864e+07</td>\n",
       "      <td>1.719644e+06</td>\n",
       "    </tr>\n",
       "    <tr>\n",
       "      <th>...</th>\n",
       "      <td>...</td>\n",
       "      <td>...</td>\n",
       "      <td>...</td>\n",
       "      <td>...</td>\n",
       "      <td>...</td>\n",
       "      <td>...</td>\n",
       "      <td>...</td>\n",
       "      <td>...</td>\n",
       "      <td>...</td>\n",
       "      <td>...</td>\n",
       "      <td>...</td>\n",
       "      <td>...</td>\n",
       "      <td>...</td>\n",
       "      <td>...</td>\n",
       "      <td>...</td>\n",
       "    </tr>\n",
       "    <tr>\n",
       "      <th>167</th>\n",
       "      <td>2020</td>\n",
       "      <td>128</td>\n",
       "      <td>3</td>\n",
       "      <td>0</td>\n",
       "      <td>0</td>\n",
       "      <td>0</td>\n",
       "      <td>0</td>\n",
       "      <td>0</td>\n",
       "      <td>0.000000</td>\n",
       "      <td>0.000000e+00</td>\n",
       "      <td>1119517</td>\n",
       "      <td>566186</td>\n",
       "      <td>95442</td>\n",
       "      <td>3.002300e+04</td>\n",
       "      <td>1.031000e+03</td>\n",
       "    </tr>\n",
       "    <tr>\n",
       "      <th>168</th>\n",
       "      <td>2020</td>\n",
       "      <td>0</td>\n",
       "      <td>0</td>\n",
       "      <td>0</td>\n",
       "      <td>0</td>\n",
       "      <td>0</td>\n",
       "      <td>0</td>\n",
       "      <td>0</td>\n",
       "      <td>0.000000</td>\n",
       "      <td>0.000000e+00</td>\n",
       "      <td>113876</td>\n",
       "      <td>18950</td>\n",
       "      <td>12569</td>\n",
       "      <td>6.900000e+02</td>\n",
       "      <td>1.110000e+02</td>\n",
       "    </tr>\n",
       "    <tr>\n",
       "      <th>169</th>\n",
       "      <td>2020</td>\n",
       "      <td>25</td>\n",
       "      <td>1</td>\n",
       "      <td>0</td>\n",
       "      <td>0</td>\n",
       "      <td>0</td>\n",
       "      <td>0</td>\n",
       "      <td>0</td>\n",
       "      <td>0.000000</td>\n",
       "      <td>0.000000e+00</td>\n",
       "      <td>29810</td>\n",
       "      <td>36869</td>\n",
       "      <td>27940</td>\n",
       "      <td>1.330000e+03</td>\n",
       "      <td>3.258000e+02</td>\n",
       "    </tr>\n",
       "    <tr>\n",
       "      <th>170</th>\n",
       "      <td>2020</td>\n",
       "      <td>470</td>\n",
       "      <td>3</td>\n",
       "      <td>0</td>\n",
       "      <td>0</td>\n",
       "      <td>0</td>\n",
       "      <td>0</td>\n",
       "      <td>0</td>\n",
       "      <td>0.000000</td>\n",
       "      <td>0.000000e+00</td>\n",
       "      <td>5132660</td>\n",
       "      <td>2654590</td>\n",
       "      <td>485282</td>\n",
       "      <td>1.132440e+05</td>\n",
       "      <td>4.729000e+03</td>\n",
       "    </tr>\n",
       "    <tr>\n",
       "      <th>171</th>\n",
       "      <td>2020</td>\n",
       "      <td>138</td>\n",
       "      <td>36</td>\n",
       "      <td>0</td>\n",
       "      <td>0</td>\n",
       "      <td>0</td>\n",
       "      <td>0</td>\n",
       "      <td>0</td>\n",
       "      <td>0.000000</td>\n",
       "      <td>0.000000e+00</td>\n",
       "      <td>355691</td>\n",
       "      <td>150415</td>\n",
       "      <td>50781</td>\n",
       "      <td>4.459000e+03</td>\n",
       "      <td>5.010000e+02</td>\n",
       "    </tr>\n",
       "  </tbody>\n",
       "</table>\n",
       "<p>172 rows × 15 columns</p>\n",
       "</div>"
      ],
      "text/plain": [
       "     year  no_atms_on_site  no_atms_off_site  no_pos_on_line  no_pos_off_line  \\\n",
       "0    2019             2056               309            4633                0   \n",
       "1    2019             3926              2691           53866                0   \n",
       "2    2019             1003              1014            5998                0   \n",
       "3    2019             2206              1493           34863                0   \n",
       "4    2019            25793             32841          608542                0   \n",
       "..    ...              ...               ...             ...              ...   \n",
       "167  2020              128                 3               0                0   \n",
       "168  2020                0                 0               0                0   \n",
       "169  2020               25                 1               0                0   \n",
       "170  2020              470                 3               0                0   \n",
       "171  2020              138                36               0                0   \n",
       "\n",
       "     no_credit_cards  no_credit_card_atm_txn  no_credit_card_pos_txn  \\\n",
       "0                  0                       0                       0   \n",
       "1              47661                    3950                  232667   \n",
       "2               7618                     178                    8680   \n",
       "3              33751                     976                  144533   \n",
       "4            9096320                  139672                30868693   \n",
       "..               ...                     ...                     ...   \n",
       "167                0                       0                       0   \n",
       "168                0                       0                       0   \n",
       "169                0                       0                       0   \n",
       "170                0                       0                       0   \n",
       "171                0                       0                       0   \n",
       "\n",
       "     no_credit_card_atm_txn_value_in_mn  no_credit_card_pos_txn_value_in_mn  \\\n",
       "0                              0.000000                        0.000000e+00   \n",
       "1                            199.793351                        5.655823e+03   \n",
       "2                              8.136000                        1.834508e+02   \n",
       "3                             54.082814                        3.434566e+03   \n",
       "4                           5391.585120                        1.120285e+06   \n",
       "..                                  ...                                 ...   \n",
       "167                            0.000000                        0.000000e+00   \n",
       "168                            0.000000                        0.000000e+00   \n",
       "169                            0.000000                        0.000000e+00   \n",
       "170                            0.000000                        0.000000e+00   \n",
       "171                            0.000000                        0.000000e+00   \n",
       "\n",
       "     no_debit_cards  no_debit_card_atm_txn  no_debit_card_pos_txn  \\\n",
       "0           7349417                6241323                3570769   \n",
       "1          17793021               28293284                9210319   \n",
       "2           8582681                7946142                2434658   \n",
       "3          12300353                9449057                6359887   \n",
       "4         297610598              379148480              120758113   \n",
       "..              ...                    ...                    ...   \n",
       "167         1119517                 566186                  95442   \n",
       "168          113876                  18950                  12569   \n",
       "169           29810                  36869                  27940   \n",
       "170         5132660                2654590                 485282   \n",
       "171          355691                 150415                  50781   \n",
       "\n",
       "     no_debit_card_atm_txn_value_in_mn  no_debit_card_pos_txn_value_in_mn  \n",
       "0                         2.373801e+05                       4.444839e+04  \n",
       "1                         8.288817e+05                       1.051119e+05  \n",
       "2                         2.765543e+05                       3.194723e+04  \n",
       "3                         4.049940e+05                       8.502809e+04  \n",
       "4                         1.077864e+07                       1.719644e+06  \n",
       "..                                 ...                                ...  \n",
       "167                       3.002300e+04                       1.031000e+03  \n",
       "168                       6.900000e+02                       1.110000e+02  \n",
       "169                       1.330000e+03                       3.258000e+02  \n",
       "170                       1.132440e+05                       4.729000e+03  \n",
       "171                       4.459000e+03                       5.010000e+02  \n",
       "\n",
       "[172 rows x 15 columns]"
      ]
     },
     "execution_count": 169,
     "metadata": {},
     "output_type": "execute_result"
    }
   ],
   "source": [
    "data3"
   ]
  },
  {
   "cell_type": "code",
   "execution_count": 178,
   "metadata": {},
   "outputs": [
    {
     "name": "stdout",
     "output_type": "stream",
     "text": [
      "correlation between service and phones per 1000 is- 0.540848770189336\n"
     ]
    },
    {
     "data": {
      "image/png": "[encoded data removed]",
      "text/plain": [
       "<Figure size 432x288 with 1 Axes>"
      ]
     },
     "metadata": {},
     "output_type": "display_data"
    }
   ],
   "source": [
    "plt.figsize=(50,50)\n",
    "plt.scatter(df['no_credit_card_atm_txn'],df['no_credit_card_atm_txn_value_in_mn'],color='blue')\n",
    "plt.title(\"no of atm  vs credit card value\")\n",
    "plt.xlabel(\"no of atm\")\n",
    "plt.ylabel(\"credit card value\")\n",
    "print(\"correlation between service and phones per 1000 is-\",df['no_credit_card_atm_txn_value_in_mn'].corr(df['no_atms_on_site']))"
   ]
  },
  {
   "cell_type": "code",
   "execution_count": 15,
   "metadata": {},
   "outputs": [],
   "source": [
    "import pandas as pd\n",
    "data5=pd.read_csv(\"commodities data.csv\", engine='python')"
   ]
  },
  {
   "cell_type": "code",
   "execution_count": 16,
   "metadata": {},
   "outputs": [
    {
     "data": {
      "text/html": [
       "<div>\n",
       "<style scoped>\n",
       "    .dataframe tbody tr th:only-of-type {\n",
       "        vertical-align: middle;\n",
       "    }\n",
       "\n",
       "    .dataframe tbody tr th {\n",
       "        vertical-align: top;\n",
       "    }\n",
       "\n",
       "    .dataframe thead th {\n",
       "        text-align: right;\n",
       "    }\n",
       "</style>\n",
       "<table border=\"1\" class=\"dataframe\">\n",
       "  <thead>\n",
       "    <tr style=\"text-align: right;\">\n",
       "      <th></th>\n",
       "      <th>Commodity</th>\n",
       "      <th>2019</th>\n",
       "      <th>2020</th>\n",
       "      <th>%Growth</th>\n",
       "    </tr>\n",
       "  </thead>\n",
       "  <tbody>\n",
       "    <tr>\n",
       "      <th>0</th>\n",
       "      <td>CEREALS.</td>\n",
       "      <td>901104.69</td>\n",
       "      <td>280666.21</td>\n",
       "      <td>-18.85</td>\n",
       "    </tr>\n",
       "    <tr>\n",
       "      <th>1</th>\n",
       "      <td>PHARMAC. PRODUCTS</td>\n",
       "      <td>1151503.04</td>\n",
       "      <td>1224113.29</td>\n",
       "      <td>6.31</td>\n",
       "    </tr>\n",
       "    <tr>\n",
       "      <th>2</th>\n",
       "      <td>SOAP AND CLEANSING AGENTS</td>\n",
       "      <td>439712.05</td>\n",
       "      <td>522284.21</td>\n",
       "      <td>18.78</td>\n",
       "    </tr>\n",
       "    <tr>\n",
       "      <th>3</th>\n",
       "      <td>AIRCRAFT PARTS</td>\n",
       "      <td>5621064.22</td>\n",
       "      <td>4948119.31</td>\n",
       "      <td>-11.97</td>\n",
       "    </tr>\n",
       "  </tbody>\n",
       "</table>\n",
       "</div>"
      ],
      "text/plain": [
       "                   Commodity        2019        2020  %Growth\n",
       "0                CEREALS.      901104.69   280666.21   -18.85\n",
       "1       PHARMAC. PRODUCTS     1151503.04  1224113.29     6.31\n",
       "2  SOAP AND CLEANSING AGENTS   439712.05   522284.21    18.78\n",
       "3             AIRCRAFT PARTS  5621064.22  4948119.31   -11.97"
      ]
     },
     "execution_count": 16,
     "metadata": {},
     "output_type": "execute_result"
    }
   ],
   "source": [
    "data5"
   ]
  },
  {
   "cell_type": "code",
   "execution_count": 28,
   "metadata": {},
   "outputs": [
    {
     "data": {
      "image/png": "[encoded data removed]",
      "text/plain": [
       "<Figure size 432x360 with 1 Axes>"
      ]
     },
     "metadata": {
      "needs_background": "light"
     },
     "output_type": "display_data"
    }
   ],
   "source": [
    "fig = plt.subplots(figsize=(6,5)) \n",
    "sns.barplot(x='Commodity', y='%Growth', data=data5, palette='Set1')\n",
    "plt.xticks(rotation=45) \n",
    "plt.show()"
   ]
  },
  {
   "cell_type": "code",
   "execution_count": 2,
   "metadata": {},
   "outputs": [],
   "source": [
    "petrol=pd.read_csv(\"consume_petrol.csv\")"
   ]
  },
  {
   "cell_type": "code",
   "execution_count": 3,
   "metadata": {},
   "outputs": [
    {
     "data": {
      "text/html": [
       "<div>\n",
       "<style scoped>\n",
       "    .dataframe tbody tr th:only-of-type {\n",
       "        vertical-align: middle;\n",
       "    }\n",
       "\n",
       "    .dataframe tbody tr th {\n",
       "        vertical-align: top;\n",
       "    }\n",
       "\n",
       "    .dataframe thead th {\n",
       "        text-align: right;\n",
       "    }\n",
       "</style>\n",
       "<table border=\"1\" class=\"dataframe\">\n",
       "  <thead>\n",
       "    <tr style=\"text-align: right;\">\n",
       "      <th></th>\n",
       "      <th>co</th>\n",
       "      <th>Unnamed: 1</th>\n",
       "      <th>consume</th>\n",
       "      <th>C</th>\n",
       "      <th>CASES</th>\n",
       "    </tr>\n",
       "  </thead>\n",
       "  <tbody>\n",
       "    <tr>\n",
       "      <th>0</th>\n",
       "      <td>5.1</td>\n",
       "      <td>NaN</td>\n",
       "      <td>5.10</td>\n",
       "      <td>0</td>\n",
       "      <td>0.0</td>\n",
       "    </tr>\n",
       "    <tr>\n",
       "      <th>1</th>\n",
       "      <td>5.0</td>\n",
       "      <td>NaN</td>\n",
       "      <td>5.00</td>\n",
       "      <td>0</td>\n",
       "      <td>0.0</td>\n",
       "    </tr>\n",
       "    <tr>\n",
       "      <th>2</th>\n",
       "      <td>4.6</td>\n",
       "      <td>NaN</td>\n",
       "      <td>4.60</td>\n",
       "      <td>0</td>\n",
       "      <td>0.0</td>\n",
       "    </tr>\n",
       "    <tr>\n",
       "      <th>3</th>\n",
       "      <td>4.8</td>\n",
       "      <td>NaN</td>\n",
       "      <td>4.80</td>\n",
       "      <td>0</td>\n",
       "      <td>0.0</td>\n",
       "    </tr>\n",
       "    <tr>\n",
       "      <th>4</th>\n",
       "      <td>4.4</td>\n",
       "      <td>NaN</td>\n",
       "      <td>4.40</td>\n",
       "      <td>0</td>\n",
       "      <td>0.0</td>\n",
       "    </tr>\n",
       "    <tr>\n",
       "      <th>...</th>\n",
       "      <td>...</td>\n",
       "      <td>...</td>\n",
       "      <td>...</td>\n",
       "      <td>...</td>\n",
       "      <td>...</td>\n",
       "    </tr>\n",
       "    <tr>\n",
       "      <th>202</th>\n",
       "      <td>4.6</td>\n",
       "      <td>3.0</td>\n",
       "      <td>1.60</td>\n",
       "      <td>1738</td>\n",
       "      <td>34863.0</td>\n",
       "    </tr>\n",
       "    <tr>\n",
       "      <th>203</th>\n",
       "      <td>5.0</td>\n",
       "      <td>3.0</td>\n",
       "      <td>2.00</td>\n",
       "      <td>1801</td>\n",
       "      <td>37257.0</td>\n",
       "    </tr>\n",
       "    <tr>\n",
       "      <th>204</th>\n",
       "      <td>NaN</td>\n",
       "      <td>NaN</td>\n",
       "      <td>2.60</td>\n",
       "      <td>2394</td>\n",
       "      <td>39699.0</td>\n",
       "    </tr>\n",
       "    <tr>\n",
       "      <th>205</th>\n",
       "      <td>NaN</td>\n",
       "      <td>NaN</td>\n",
       "      <td>2.62</td>\n",
       "      <td>2442</td>\n",
       "      <td>42505.0</td>\n",
       "    </tr>\n",
       "    <tr>\n",
       "      <th>206</th>\n",
       "      <td>NaN</td>\n",
       "      <td>NaN</td>\n",
       "      <td>2.64</td>\n",
       "      <td>2806</td>\n",
       "      <td>42505.0</td>\n",
       "    </tr>\n",
       "  </tbody>\n",
       "</table>\n",
       "<p>207 rows × 5 columns</p>\n",
       "</div>"
      ],
      "text/plain": [
       "      co  Unnamed: 1  consume     C    CASES\n",
       "0    5.1         NaN     5.10     0      0.0\n",
       "1    5.0         NaN     5.00     0      0.0\n",
       "2    4.6         NaN     4.60     0      0.0\n",
       "3    4.8         NaN     4.80     0      0.0\n",
       "4    4.4         NaN     4.40     0      0.0\n",
       "..   ...         ...      ...   ...      ...\n",
       "202  4.6         3.0     1.60  1738  34863.0\n",
       "203  5.0         3.0     2.00  1801  37257.0\n",
       "204  NaN         NaN     2.60  2394  39699.0\n",
       "205  NaN         NaN     2.62  2442  42505.0\n",
       "206  NaN         NaN     2.64  2806  42505.0\n",
       "\n",
       "[207 rows x 5 columns]"
      ]
     },
     "execution_count": 3,
     "metadata": {},
     "output_type": "execute_result"
    }
   ],
   "source": [
    "petrol"
   ]
  },
  {
   "cell_type": "code",
   "execution_count": 6,
   "metadata": {},
   "outputs": [
    {
     "ename": "TypeError",
     "evalue": "curve_fit() missing 2 required positional arguments: 'c' and 'd'",
     "output_type": "error",
     "traceback": [
      "\u001b[1;31m---------------------------------------------------------------------------\u001b[0m",
      "\u001b[1;31mTypeError\u001b[0m                                 Traceback (most recent call last)",
      "\u001b[1;32m<ipython-input-6-73c46d0b6f91>\u001b[0m in \u001b[0;36m<module>\u001b[1;34m\u001b[0m\n\u001b[0;32m     22\u001b[0m \"\"\"\n\u001b[0;32m     23\u001b[0m \u001b[1;33m\u001b[0m\u001b[0m\n\u001b[1;32m---> 24\u001b[1;33m \u001b[0mpopt\u001b[0m\u001b[1;33m,\u001b[0m \u001b[0mpcov\u001b[0m \u001b[1;33m=\u001b[0m \u001b[0mcurve_fit\u001b[0m\u001b[1;33m(\u001b[0m\u001b[0mfunc\u001b[0m\u001b[1;33m,\u001b[0m \u001b[0mx\u001b[0m\u001b[1;33m,\u001b[0m \u001b[0my\u001b[0m\u001b[1;33m)\u001b[0m\u001b[1;33m\u001b[0m\u001b[1;33m\u001b[0m\u001b[0m\n\u001b[0m\u001b[0;32m     25\u001b[0m \u001b[1;33m\u001b[0m\u001b[0m\n\u001b[0;32m     26\u001b[0m \"\"\"\n",
      "\u001b[1;31mTypeError\u001b[0m: curve_fit() missing 2 required positional arguments: 'c' and 'd'"
     ]
    },
    {
     "data": {
      "image/png": "[encoded data removed]",
      "text/plain": [
       "<Figure size 432x288 with 1 Axes>"
      ]
     },
     "metadata": {
      "needs_background": "light"
     },
     "output_type": "display_data"
    }
   ],
   "source": [
    "x = petrol['CASES']\n",
    "y = petrol['consume']\n",
    "\n",
    "\"\"\"\n",
    "Plot your data\n",
    "\"\"\"\n",
    "plt.plot(x, y, 'ro',label=\"Original Data\")\n",
    "x = np.array(x, dtype=float) #transform your data in a numpy array of floats \n",
    "y = np.array(y, dtype=float) #so the curve_fit can work\n",
    "\n",
    "\"\"\"\n",
    "create a function to fit with your data. a, b, c and d are the coefficients\n",
    "that curve_fit will calculate for you. \n",
    "In this part you need to guess and/or use mathematical knowledge to find\n",
    "a function that resembles your data\n",
    "\"\"\"\n",
    "def func(x, a, b, c, d):\n",
    "    return a*x**3 + b*x**2 +c*x + d\n",
    "\n",
    "\"\"\"\n",
    "make the curve_fit\n",
    "\"\"\"\n",
    "\n",
    "popt, pcov = curve_fit(func, x, y)\n",
    "\n",
    "\"\"\"\n",
    "The result is:\n",
    "popt[0] = a , popt[1] = b, popt[2] = c and popt[3] = d of the function,\n",
    "so f(x) = popt[0]*x**3 + popt[1]*x**2 + popt[2]*x + popt[3].\n",
    "\"\"\"\n",
    "print(\"a = %s , b = %s, c = %s, d = %s\" % (popt[0], popt[1], popt[2], popt[3]))\n",
    "\n",
    "\n",
    "xs = sym.Symbol('\\lambda')    \n",
    "tex = sym.latex(func(xs,*popt)).replace('$', '')\n",
    "plt.title('Petrol Consumption vs CoronaVirus cases')\n",
    "\n",
    "\"\"\"\n",
    "Print the coefficients and plot the funcion.\n",
    "\"\"\"\n",
    "\n",
    "plt.plot(x, func(x, *popt), label=\"Fitted Curve\") #same as line above \\/\n",
    "#plt.plot(x, popt[0]*x**3 + popt[1]*x**2 + popt[2]*x + popt[3], label=\"Fitted Curve\") \n",
    "\n",
    "plt.legend(loc='upper left')\n",
    "plt.show()"
   ]
  },
  {
   "cell_type": "code",
   "execution_count": 20,
   "metadata": {},
   "outputs": [],
   "source": [
    "X=petrol['CASES']\n",
    "X=X.to_frame()       # we take phones(per 1000) in X\n",
    "\n",
    "Y=petrol['consume']\n",
    "Y=Y.to_frame() "
   ]
  },
  {
   "cell_type": "code",
   "execution_count": 21,
   "metadata": {},
   "outputs": [],
   "source": [
    "from sklearn.model_selection import train_test_split    #train test split\n",
    "X_train, X_test, Y_train, Y_test = train_test_split(X, Y, test_size = 0.2,random_state=1)\n",
    "from sklearn.neighbors import KNeighborsRegressor\n",
    "regressor = KNeighborsRegressor(n_neighbors=10)  #10 nearest neighbours will be taken into account to predict the results\n",
    "regressor.fit(X_train,Y_train)\n",
    "Y_pred = regressor.predict(X_test)"
   ]
  },
  {
   "cell_type": "code",
   "execution_count": 22,
   "metadata": {},
   "outputs": [
    {
     "name": "stdout",
     "output_type": "stream",
     "text": [
      "mean squared error: 0.36924207142857135\n",
      "r2 score: 0.7953654565205761\n"
     ]
    }
   ],
   "source": [
    "from sklearn.metrics import mean_squared_error , r2_score\n",
    "print(\"mean squared error: {}\".format(mean_squared_error(Y_test,Y_pred)))\n",
    "print(\"r2 score: {}\".format(r2_score(Y_test,Y_pred)))\n",
    "f=\" {}\".format(r2_score(Y_test,Y_pred))"
   ]
  },
  {
   "cell_type": "code",
   "execution_count": 2,
   "metadata": {},
   "outputs": [],
   "source": [
    "dff=pd.read_csv(\"mobile.csv\")"
   ]
  },
  {
   "cell_type": "code",
   "execution_count": 3,
   "metadata": {},
   "outputs": [
    {
     "data": {
      "text/html": [
       "<div>\n",
       "<style scoped>\n",
       "    .dataframe tbody tr th:only-of-type {\n",
       "        vertical-align: middle;\n",
       "    }\n",
       "\n",
       "    .dataframe tbody tr th {\n",
       "        vertical-align: top;\n",
       "    }\n",
       "\n",
       "    .dataframe thead th {\n",
       "        text-align: right;\n",
       "    }\n",
       "</style>\n",
       "<table border=\"1\" class=\"dataframe\">\n",
       "  <thead>\n",
       "    <tr style=\"text-align: right;\">\n",
       "      <th></th>\n",
       "      <th>year</th>\n",
       "      <th>number of units</th>\n",
       "    </tr>\n",
       "  </thead>\n",
       "  <tbody>\n",
       "    <tr>\n",
       "      <th>0</th>\n",
       "      <td>Year-2016</td>\n",
       "      <td>48</td>\n",
       "    </tr>\n",
       "    <tr>\n",
       "      <th>1</th>\n",
       "      <td>Year-2017</td>\n",
       "      <td>57</td>\n",
       "    </tr>\n",
       "    <tr>\n",
       "      <th>2</th>\n",
       "      <td>Year-2018</td>\n",
       "      <td>69</td>\n",
       "    </tr>\n",
       "    <tr>\n",
       "      <th>3</th>\n",
       "      <td>Year-2019</td>\n",
       "      <td>84</td>\n",
       "    </tr>\n",
       "    <tr>\n",
       "      <th>4</th>\n",
       "      <td>Year-2020</td>\n",
       "      <td>62</td>\n",
       "    </tr>\n",
       "  </tbody>\n",
       "</table>\n",
       "</div>"
      ],
      "text/plain": [
       "        year  number of units\n",
       "0  Year-2016               48\n",
       "1  Year-2017               57\n",
       "2  Year-2018               69\n",
       "3  Year-2019               84\n",
       "4  Year-2020               62"
      ]
     },
     "execution_count": 3,
     "metadata": {},
     "output_type": "execute_result"
    }
   ],
   "source": [
    "dff"
   ]
  },
  {
   "cell_type": "code",
   "execution_count": 5,
   "metadata": {},
   "outputs": [
    {
     "data": {
      "text/plain": [
       "Text(0.5, 1.0, 'Sale of smartphones(in millions) in india for quarter 1 and 2')"
      ]
     },
     "execution_count": 5,
     "metadata": {},
     "output_type": "execute_result"
    },
    {
     "data": {
      "image/png": "[encoded data removed]",
      "text/plain": [
       "<Figure size 432x288 with 1 Axes>"
      ]
     },
     "metadata": {
      "needs_background": "light"
     },
     "output_type": "display_data"
    }
   ],
   "source": [
    "plt.scatter(dff['year'], dff['number of units'],color='blue')\n",
    "plt.plot(dff['year'], dff['number of units'],color='green')\n",
    "plt.title('Sale of smartphones(in millions) in india for quarter 1 and 2')"
   ]
  },
  {
   "cell_type": "code",
   "execution_count": 15,
   "metadata": {},
   "outputs": [],
   "source": [
    "electric=pd.read_csv(\"electric.csv\")"
   ]
  },
  {
   "cell_type": "code",
   "execution_count": 16,
   "metadata": {},
   "outputs": [
    {
     "data": {
      "text/html": [
       "<div>\n",
       "<style scoped>\n",
       "    .dataframe tbody tr th:only-of-type {\n",
       "        vertical-align: middle;\n",
       "    }\n",
       "\n",
       "    .dataframe tbody tr th {\n",
       "        vertical-align: top;\n",
       "    }\n",
       "\n",
       "    .dataframe thead th {\n",
       "        text-align: right;\n",
       "    }\n",
       "</style>\n",
       "<table border=\"1\" class=\"dataframe\">\n",
       "  <thead>\n",
       "    <tr style=\"text-align: right;\">\n",
       "      <th></th>\n",
       "      <th>date</th>\n",
       "      <th>demand in Gwh</th>\n",
       "    </tr>\n",
       "  </thead>\n",
       "  <tbody>\n",
       "    <tr>\n",
       "      <th>0</th>\n",
       "      <td>18-Mar</td>\n",
       "      <td>3586</td>\n",
       "    </tr>\n",
       "    <tr>\n",
       "      <th>1</th>\n",
       "      <td>22-Mar</td>\n",
       "      <td>3030</td>\n",
       "    </tr>\n",
       "    <tr>\n",
       "      <th>2</th>\n",
       "      <td>24-Mar</td>\n",
       "      <td>2975</td>\n",
       "    </tr>\n",
       "    <tr>\n",
       "      <th>3</th>\n",
       "      <td>26-Mar</td>\n",
       "      <td>2652</td>\n",
       "    </tr>\n",
       "    <tr>\n",
       "      <th>4</th>\n",
       "      <td>28-Mar</td>\n",
       "      <td>2422</td>\n",
       "    </tr>\n",
       "    <tr>\n",
       "      <th>5</th>\n",
       "      <td>1-Apr</td>\n",
       "      <td>2321</td>\n",
       "    </tr>\n",
       "    <tr>\n",
       "      <th>6</th>\n",
       "      <td>3-Apr</td>\n",
       "      <td>2400</td>\n",
       "    </tr>\n",
       "    <tr>\n",
       "      <th>7</th>\n",
       "      <td>5-Apr</td>\n",
       "      <td>2387</td>\n",
       "    </tr>\n",
       "    <tr>\n",
       "      <th>8</th>\n",
       "      <td>7-Apr</td>\n",
       "      <td>2354</td>\n",
       "    </tr>\n",
       "    <tr>\n",
       "      <th>9</th>\n",
       "      <td>20-Apr</td>\n",
       "      <td>2400</td>\n",
       "    </tr>\n",
       "    <tr>\n",
       "      <th>10</th>\n",
       "      <td>30-Apr</td>\n",
       "      <td>2431</td>\n",
       "    </tr>\n",
       "    <tr>\n",
       "      <th>11</th>\n",
       "      <td>2-May</td>\n",
       "      <td>2422</td>\n",
       "    </tr>\n",
       "    <tr>\n",
       "      <th>12</th>\n",
       "      <td>10-May</td>\n",
       "      <td>2600</td>\n",
       "    </tr>\n",
       "    <tr>\n",
       "      <th>13</th>\n",
       "      <td>14-May</td>\n",
       "      <td>2876</td>\n",
       "    </tr>\n",
       "    <tr>\n",
       "      <th>14</th>\n",
       "      <td>18-May</td>\n",
       "      <td>2987</td>\n",
       "    </tr>\n",
       "    <tr>\n",
       "      <th>15</th>\n",
       "      <td>22-May</td>\n",
       "      <td>2976</td>\n",
       "    </tr>\n",
       "  </tbody>\n",
       "</table>\n",
       "</div>"
      ],
      "text/plain": [
       "      date  demand in Gwh\n",
       "0   18-Mar           3586\n",
       "1   22-Mar           3030\n",
       "2   24-Mar           2975\n",
       "3   26-Mar           2652\n",
       "4   28-Mar           2422\n",
       "5    1-Apr           2321\n",
       "6    3-Apr           2400\n",
       "7    5-Apr           2387\n",
       "8    7-Apr           2354\n",
       "9   20-Apr           2400\n",
       "10  30-Apr           2431\n",
       "11   2-May           2422\n",
       "12  10-May           2600\n",
       "13  14-May           2876\n",
       "14  18-May           2987\n",
       "15  22-May           2976"
      ]
     },
     "execution_count": 16,
     "metadata": {},
     "output_type": "execute_result"
    }
   ],
   "source": [
    "electric"
   ]
  },
  {
   "cell_type": "code",
   "execution_count": 17,
   "metadata": {},
   "outputs": [
    {
     "data": {
      "image/png": "[encoded data removed]",
      "text/plain": [
       "<Figure size 720x432 with 1 Axes>"
      ]
     },
     "metadata": {
      "needs_background": "light"
     },
     "output_type": "display_data"
    }
   ],
   "source": [
    "fig = plt.subplots(figsize=(10,6)) \n",
    "sns.barplot(x='date', y='demand in Gwh', data=electric, palette='Set2')\n",
    "plt.xticks(rotation=90) \n",
    "plt.show()   # shows top 20 countries by their Gdp"
   ]
  },
  {
   "cell_type": "code",
   "execution_count": 18,
   "metadata": {},
   "outputs": [],
   "source": [
    "cars=pd.read_csv(\"cars.csv\")"
   ]
  },
  {
   "cell_type": "code",
   "execution_count": 19,
   "metadata": {},
   "outputs": [
    {
     "data": {
      "text/html": [
       "<div>\n",
       "<style scoped>\n",
       "    .dataframe tbody tr th:only-of-type {\n",
       "        vertical-align: middle;\n",
       "    }\n",
       "\n",
       "    .dataframe tbody tr th {\n",
       "        vertical-align: top;\n",
       "    }\n",
       "\n",
       "    .dataframe thead th {\n",
       "        text-align: right;\n",
       "    }\n",
       "</style>\n",
       "<table border=\"1\" class=\"dataframe\">\n",
       "  <thead>\n",
       "    <tr style=\"text-align: right;\">\n",
       "      <th></th>\n",
       "      <th>year</th>\n",
       "      <th>car sales</th>\n",
       "    </tr>\n",
       "  </thead>\n",
       "  <tbody>\n",
       "    <tr>\n",
       "      <th>0</th>\n",
       "      <td>2016</td>\n",
       "      <td>1853674</td>\n",
       "    </tr>\n",
       "    <tr>\n",
       "      <th>1</th>\n",
       "      <td>2017</td>\n",
       "      <td>1976274</td>\n",
       "    </tr>\n",
       "    <tr>\n",
       "      <th>2</th>\n",
       "      <td>2018</td>\n",
       "      <td>2016240</td>\n",
       "    </tr>\n",
       "    <tr>\n",
       "      <th>3</th>\n",
       "      <td>2019</td>\n",
       "      <td>1811677</td>\n",
       "    </tr>\n",
       "    <tr>\n",
       "      <th>4</th>\n",
       "      <td>2020</td>\n",
       "      <td>666360</td>\n",
       "    </tr>\n",
       "  </tbody>\n",
       "</table>\n",
       "</div>"
      ],
      "text/plain": [
       "   year  car sales\n",
       "0  2016    1853674\n",
       "1  2017    1976274\n",
       "2  2018    2016240\n",
       "3  2019    1811677\n",
       "4  2020     666360"
      ]
     },
     "execution_count": 19,
     "metadata": {},
     "output_type": "execute_result"
    }
   ],
   "source": [
    "cars"
   ]
  },
  {
   "cell_type": "code",
   "execution_count": 22,
   "metadata": {},
   "outputs": [
    {
     "data": {
      "text/plain": [
       "Text(0.5, 1.0, 'First 5 months sale of cars in india per year from 2016-2020')"
      ]
     },
     "execution_count": 22,
     "metadata": {},
     "output_type": "execute_result"
    },
    {
     "data": {
      "image/png": "[encoded data removed]",
      "text/plain": [
       "<Figure size 432x288 with 1 Axes>"
      ]
     },
     "metadata": {
      "needs_background": "light"
     },
     "output_type": "display_data"
    }
   ],
   "source": [
    "plt.scatter(cars['year'], cars['car sales'],color='blue')\n",
    "plt.plot(cars['year'], cars['car sales'],color='green')\n",
    "plt.title('First 5 months sale of cars in india per year from 2016-2020')"
   ]
  },
  {
   "cell_type": "code",
   "execution_count": 27,
   "metadata": {},
   "outputs": [
    {
     "data": {
      "image/png": "[encoded data removed]",
      "text/plain": [
       "<Figure size 360x360 with 1 Axes>"
      ]
     },
     "metadata": {
      "needs_background": "light"
     },
     "output_type": "display_data"
    }
   ],
   "source": [
    "fig = plt.subplots(figsize=(5,5)) \n",
    "sns.barplot(x='year', y='car sales', data=cars, palette='Set2')\n",
    "plt.xticks(rotation=90) \n",
    "plt.show()"
   ]
  },
  {
   "cell_type": "code",
   "execution_count": 22,
   "metadata": {},
   "outputs": [],
   "source": [
    "df12=pd.read_csv(\"gold.csv\")"
   ]
  },
  {
   "cell_type": "code",
   "execution_count": 23,
   "metadata": {},
   "outputs": [
    {
     "data": {
      "text/html": [
       "<div>\n",
       "<style scoped>\n",
       "    .dataframe tbody tr th:only-of-type {\n",
       "        vertical-align: middle;\n",
       "    }\n",
       "\n",
       "    .dataframe tbody tr th {\n",
       "        vertical-align: top;\n",
       "    }\n",
       "\n",
       "    .dataframe thead th {\n",
       "        text-align: right;\n",
       "    }\n",
       "</style>\n",
       "<table border=\"1\" class=\"dataframe\">\n",
       "  <thead>\n",
       "    <tr style=\"text-align: right;\">\n",
       "      <th></th>\n",
       "      <th>year</th>\n",
       "      <th>in metric tonnes</th>\n",
       "    </tr>\n",
       "  </thead>\n",
       "  <tbody>\n",
       "    <tr>\n",
       "      <th>0</th>\n",
       "      <td>jan-mar-17</td>\n",
       "      <td>248.00</td>\n",
       "    </tr>\n",
       "    <tr>\n",
       "      <th>1</th>\n",
       "      <td>apr-jun-17</td>\n",
       "      <td>253.30</td>\n",
       "    </tr>\n",
       "    <tr>\n",
       "      <th>2</th>\n",
       "      <td>july-sep-17</td>\n",
       "      <td>233.30</td>\n",
       "    </tr>\n",
       "    <tr>\n",
       "      <th>3</th>\n",
       "      <td>oct-dec-17</td>\n",
       "      <td>257.54</td>\n",
       "    </tr>\n",
       "    <tr>\n",
       "      <th>4</th>\n",
       "      <td>jan-mar-18</td>\n",
       "      <td>244.00</td>\n",
       "    </tr>\n",
       "    <tr>\n",
       "      <th>5</th>\n",
       "      <td>apr-jun-18</td>\n",
       "      <td>276.11</td>\n",
       "    </tr>\n",
       "    <tr>\n",
       "      <th>6</th>\n",
       "      <td>july-sep-18</td>\n",
       "      <td>189.00</td>\n",
       "    </tr>\n",
       "    <tr>\n",
       "      <th>7</th>\n",
       "      <td>oct-dec-18</td>\n",
       "      <td>217.00</td>\n",
       "    </tr>\n",
       "    <tr>\n",
       "      <th>8</th>\n",
       "      <td>jan-mar-19</td>\n",
       "      <td>200.00</td>\n",
       "    </tr>\n",
       "    <tr>\n",
       "      <th>9</th>\n",
       "      <td>apr-jun-19</td>\n",
       "      <td>190.00</td>\n",
       "    </tr>\n",
       "    <tr>\n",
       "      <th>10</th>\n",
       "      <td>july-sep-19</td>\n",
       "      <td>230.34</td>\n",
       "    </tr>\n",
       "    <tr>\n",
       "      <th>11</th>\n",
       "      <td>oct-dec-19</td>\n",
       "      <td>209.76</td>\n",
       "    </tr>\n",
       "    <tr>\n",
       "      <th>12</th>\n",
       "      <td>jan-mar-20</td>\n",
       "      <td>107.00</td>\n",
       "    </tr>\n",
       "    <tr>\n",
       "      <th>13</th>\n",
       "      <td>apr-may-20</td>\n",
       "      <td>2.20</td>\n",
       "    </tr>\n",
       "    <tr>\n",
       "      <th>14</th>\n",
       "      <td>july-sep-20(projected)</td>\n",
       "      <td>218.20</td>\n",
       "    </tr>\n",
       "    <tr>\n",
       "      <th>15</th>\n",
       "      <td>oct-dec-20(projected)</td>\n",
       "      <td>228.00</td>\n",
       "    </tr>\n",
       "  </tbody>\n",
       "</table>\n",
       "</div>"
      ],
      "text/plain": [
       "                      year  in metric tonnes\n",
       "0               jan-mar-17            248.00\n",
       "1               apr-jun-17            253.30\n",
       "2              july-sep-17            233.30\n",
       "3               oct-dec-17            257.54\n",
       "4               jan-mar-18            244.00\n",
       "5               apr-jun-18            276.11\n",
       "6              july-sep-18            189.00\n",
       "7               oct-dec-18            217.00\n",
       "8               jan-mar-19            200.00\n",
       "9               apr-jun-19            190.00\n",
       "10             july-sep-19            230.34\n",
       "11              oct-dec-19            209.76\n",
       "12              jan-mar-20            107.00\n",
       "13              apr-may-20              2.20\n",
       "14  july-sep-20(projected)            218.20\n",
       "15   oct-dec-20(projected)            228.00"
      ]
     },
     "execution_count": 23,
     "metadata": {},
     "output_type": "execute_result"
    }
   ],
   "source": [
    "df12"
   ]
  },
  {
   "cell_type": "code",
   "execution_count": 26,
   "metadata": {},
   "outputs": [
    {
     "data": {
      "text/plain": [
       "Text(0.5, 1.0, 'Gold import from 2016 to 2020')"
      ]
     },
     "execution_count": 26,
     "metadata": {},
     "output_type": "execute_result"
    },
    {
     "data": {
      "image/png": "[encoded data removed]",
      "text/plain": [
       "<Figure size 1008x360 with 1 Axes>"
      ]
     },
     "metadata": {
      "needs_background": "light"
     },
     "output_type": "display_data"
    }
   ],
   "source": [
    "fig = plt.subplots(figsize=(14,5))\n",
    "plt.scatter(df12['year'], df12['in metric tonnes'],color='purple')\n",
    "plt.plot(df12['year'], df12['in metric tonnes'],color='orange')\n",
    "plt.xticks(rotation=45) \n",
    "plt.ylabel(\"import in metric tonnes\")\n",
    "plt.title('Gold import from 2016 to 2020')"
   ]
  },
  {
   "cell_type": "code",
   "execution_count": null,
   "metadata": {},
   "outputs": [],
   "source": []
  }
 ],
 "metadata": {
  "kernelspec": {
   "display_name": "Python 3",
   "language": "python",
   "name": "python3"
  },
  "language_info": {
   "codemirror_mode": {
    "name": "ipython",
    "version": 3
   },
   "file_extension": ".py",
   "mimetype": "text/x-python",
   "name": "python",
   "nbconvert_exporter": "python",
   "pygments_lexer": "ipython3",
   "version": "3.7.6"
  }
 },
 "nbformat": 4,
 "nbformat_minor": 4
}
